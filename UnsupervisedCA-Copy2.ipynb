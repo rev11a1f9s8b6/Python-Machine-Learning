{
 "cells": [
  {
   "cell_type": "markdown",
   "metadata": {},
   "source": [
    "## Problem Statement\n",
    "To predict the wine quatlity into LOW , MEDIUM or HIGH."
   ]
  },
  {
   "cell_type": "markdown",
   "metadata": {},
   "source": [
    "### Data Dictionary\n",
    "- Target : 2 = HIGH (Quality = 8 or 9), 1 = MEDIUM (Quality = 6 or 7), 0 = LOW (the rest) "
   ]
  },
  {
   "cell_type": "code",
   "execution_count": 74,
   "metadata": {},
   "outputs": [],
   "source": [
    "import numpy as np\n",
    "import matplotlib.pyplot as plt\n",
    "import pandas as pd\n",
    "from sklearn import datasets\n",
    "from sklearn.cluster import KMeans"
   ]
  },
  {
   "cell_type": "markdown",
   "metadata": {},
   "source": [
    "## Preprocessing Data "
   ]
  },
  {
   "cell_type": "code",
   "execution_count": 75,
   "metadata": {},
   "outputs": [
    {
     "data": {
      "text/html": [
       "<div>\n",
       "<style scoped>\n",
       "    .dataframe tbody tr th:only-of-type {\n",
       "        vertical-align: middle;\n",
       "    }\n",
       "\n",
       "    .dataframe tbody tr th {\n",
       "        vertical-align: top;\n",
       "    }\n",
       "\n",
       "    .dataframe thead th {\n",
       "        text-align: right;\n",
       "    }\n",
       "</style>\n",
       "<table border=\"1\" class=\"dataframe\">\n",
       "  <thead>\n",
       "    <tr style=\"text-align: right;\">\n",
       "      <th></th>\n",
       "      <th>Unnamed: 0</th>\n",
       "      <th>fixed.acidity</th>\n",
       "      <th>volatile.acidity</th>\n",
       "      <th>citric.acid</th>\n",
       "      <th>residual.sugar</th>\n",
       "      <th>chlorides</th>\n",
       "      <th>free.sulfur.dioxide</th>\n",
       "      <th>total.sulfur.dioxide</th>\n",
       "      <th>density</th>\n",
       "      <th>pH</th>\n",
       "      <th>sulphates</th>\n",
       "      <th>alcohol</th>\n",
       "      <th>quality</th>\n",
       "    </tr>\n",
       "  </thead>\n",
       "  <tbody>\n",
       "    <tr>\n",
       "      <th>0</th>\n",
       "      <td>1</td>\n",
       "      <td>7.0</td>\n",
       "      <td>0.27</td>\n",
       "      <td>0.36</td>\n",
       "      <td>20.7</td>\n",
       "      <td>0.045</td>\n",
       "      <td>45.0</td>\n",
       "      <td>170.0</td>\n",
       "      <td>1.0010</td>\n",
       "      <td>3.00</td>\n",
       "      <td>0.45</td>\n",
       "      <td>8.8</td>\n",
       "      <td>6</td>\n",
       "    </tr>\n",
       "    <tr>\n",
       "      <th>1</th>\n",
       "      <td>2</td>\n",
       "      <td>6.3</td>\n",
       "      <td>0.30</td>\n",
       "      <td>0.34</td>\n",
       "      <td>1.6</td>\n",
       "      <td>0.049</td>\n",
       "      <td>14.0</td>\n",
       "      <td>132.0</td>\n",
       "      <td>0.9940</td>\n",
       "      <td>3.30</td>\n",
       "      <td>0.49</td>\n",
       "      <td>9.5</td>\n",
       "      <td>6</td>\n",
       "    </tr>\n",
       "    <tr>\n",
       "      <th>2</th>\n",
       "      <td>3</td>\n",
       "      <td>8.1</td>\n",
       "      <td>0.28</td>\n",
       "      <td>0.40</td>\n",
       "      <td>6.9</td>\n",
       "      <td>0.050</td>\n",
       "      <td>30.0</td>\n",
       "      <td>97.0</td>\n",
       "      <td>0.9951</td>\n",
       "      <td>3.26</td>\n",
       "      <td>0.44</td>\n",
       "      <td>10.1</td>\n",
       "      <td>6</td>\n",
       "    </tr>\n",
       "    <tr>\n",
       "      <th>3</th>\n",
       "      <td>4</td>\n",
       "      <td>7.2</td>\n",
       "      <td>0.23</td>\n",
       "      <td>0.32</td>\n",
       "      <td>8.5</td>\n",
       "      <td>0.058</td>\n",
       "      <td>47.0</td>\n",
       "      <td>186.0</td>\n",
       "      <td>0.9956</td>\n",
       "      <td>3.19</td>\n",
       "      <td>0.40</td>\n",
       "      <td>9.9</td>\n",
       "      <td>6</td>\n",
       "    </tr>\n",
       "    <tr>\n",
       "      <th>4</th>\n",
       "      <td>5</td>\n",
       "      <td>7.2</td>\n",
       "      <td>0.23</td>\n",
       "      <td>0.32</td>\n",
       "      <td>8.5</td>\n",
       "      <td>0.058</td>\n",
       "      <td>47.0</td>\n",
       "      <td>186.0</td>\n",
       "      <td>0.9956</td>\n",
       "      <td>3.19</td>\n",
       "      <td>0.40</td>\n",
       "      <td>9.9</td>\n",
       "      <td>6</td>\n",
       "    </tr>\n",
       "  </tbody>\n",
       "</table>\n",
       "</div>"
      ],
      "text/plain": [
       "   Unnamed: 0  fixed.acidity  volatile.acidity  citric.acid  residual.sugar  \\\n",
       "0           1            7.0              0.27         0.36            20.7   \n",
       "1           2            6.3              0.30         0.34             1.6   \n",
       "2           3            8.1              0.28         0.40             6.9   \n",
       "3           4            7.2              0.23         0.32             8.5   \n",
       "4           5            7.2              0.23         0.32             8.5   \n",
       "\n",
       "   chlorides  free.sulfur.dioxide  total.sulfur.dioxide  density    pH  \\\n",
       "0      0.045                 45.0                 170.0   1.0010  3.00   \n",
       "1      0.049                 14.0                 132.0   0.9940  3.30   \n",
       "2      0.050                 30.0                  97.0   0.9951  3.26   \n",
       "3      0.058                 47.0                 186.0   0.9956  3.19   \n",
       "4      0.058                 47.0                 186.0   0.9956  3.19   \n",
       "\n",
       "   sulphates  alcohol  quality  \n",
       "0       0.45      8.8        6  \n",
       "1       0.49      9.5        6  \n",
       "2       0.44     10.1        6  \n",
       "3       0.40      9.9        6  \n",
       "4       0.40      9.9        6  "
      ]
     },
     "execution_count": 75,
     "metadata": {},
     "output_type": "execute_result"
    }
   ],
   "source": [
    "# importing the wineQualityWhites dataset with pandas\n",
    "df = pd.read_csv('wineQualityWhites.csv')\n",
    "df.head()"
   ]
  },
  {
   "cell_type": "code",
   "execution_count": 76,
   "metadata": {},
   "outputs": [
    {
     "data": {
      "text/plain": [
       "6    2198\n",
       "5    1457\n",
       "7     880\n",
       "8     175\n",
       "4     163\n",
       "3      20\n",
       "9       5\n",
       "Name: quality, dtype: int64"
      ]
     },
     "execution_count": 76,
     "metadata": {},
     "output_type": "execute_result"
    }
   ],
   "source": [
    "df['quality'].value_counts()"
   ]
  },
  {
   "cell_type": "markdown",
   "metadata": {},
   "source": [
    "**Drop id feature which is not meaningful for analysis.** "
   ]
  },
  {
   "cell_type": "code",
   "execution_count": 77,
   "metadata": {},
   "outputs": [],
   "source": [
    "df.drop(['Unnamed: 0'],axis=1,inplace=True)\n",
    "# df.head()"
   ]
  },
  {
   "cell_type": "code",
   "execution_count": 78,
   "metadata": {},
   "outputs": [
    {
     "name": "stdout",
     "output_type": "stream",
     "text": [
      "<class 'pandas.core.frame.DataFrame'>\n",
      "RangeIndex: 4898 entries, 0 to 4897\n",
      "Data columns (total 12 columns):\n",
      "fixed.acidity           4898 non-null float64\n",
      "volatile.acidity        4898 non-null float64\n",
      "citric.acid             4898 non-null float64\n",
      "residual.sugar          4898 non-null float64\n",
      "chlorides               4898 non-null float64\n",
      "free.sulfur.dioxide     4898 non-null float64\n",
      "total.sulfur.dioxide    4898 non-null float64\n",
      "density                 4898 non-null float64\n",
      "pH                      4898 non-null float64\n",
      "sulphates               4898 non-null float64\n",
      "alcohol                 4898 non-null float64\n",
      "quality                 4898 non-null int64\n",
      "dtypes: float64(11), int64(1)\n",
      "memory usage: 459.3 KB\n"
     ]
    }
   ],
   "source": [
    "df.info()"
   ]
  },
  {
   "cell_type": "code",
   "execution_count": 81,
   "metadata": {},
   "outputs": [],
   "source": [
    "def myfun(num):\n",
    "    if num >= 7:\n",
    "        return 2\n",
    "    elif num > 5:\n",
    "        return 1 \n",
    "    else:\n",
    "        return 0"
   ]
  },
  {
   "cell_type": "code",
   "execution_count": 82,
   "metadata": {},
   "outputs": [],
   "source": [
    "df[\"target\"] = df[\"quality\"].apply(myfun)"
   ]
  },
  {
   "cell_type": "code",
   "execution_count": 83,
   "metadata": {},
   "outputs": [
    {
     "data": {
      "text/plain": [
       "1    2198\n",
       "0    1640\n",
       "2    1060\n",
       "Name: target, dtype: int64"
      ]
     },
     "execution_count": 83,
     "metadata": {},
     "output_type": "execute_result"
    }
   ],
   "source": [
    "df[\"target\"].value_counts()"
   ]
  },
  {
   "cell_type": "code",
   "execution_count": 84,
   "metadata": {},
   "outputs": [],
   "source": [
    "df = df.drop(df.query('target == 1').sample(frac = 0.5).index)"
   ]
  },
  {
   "cell_type": "code",
   "execution_count": 85,
   "metadata": {},
   "outputs": [
    {
     "data": {
      "text/plain": [
       "0    1640\n",
       "1    1099\n",
       "2    1060\n",
       "Name: target, dtype: int64"
      ]
     },
     "execution_count": 85,
     "metadata": {},
     "output_type": "execute_result"
    }
   ],
   "source": [
    "df[\"target\"].value_counts()"
   ]
  },
  {
   "cell_type": "code",
   "execution_count": 42,
   "metadata": {},
   "outputs": [
    {
     "data": {
      "text/html": [
       "<div>\n",
       "<style scoped>\n",
       "    .dataframe tbody tr th:only-of-type {\n",
       "        vertical-align: middle;\n",
       "    }\n",
       "\n",
       "    .dataframe tbody tr th {\n",
       "        vertical-align: top;\n",
       "    }\n",
       "\n",
       "    .dataframe thead th {\n",
       "        text-align: right;\n",
       "    }\n",
       "</style>\n",
       "<table border=\"1\" class=\"dataframe\">\n",
       "  <thead>\n",
       "    <tr style=\"text-align: right;\">\n",
       "      <th></th>\n",
       "      <th>fixed.acidity</th>\n",
       "      <th>volatile.acidity</th>\n",
       "      <th>citric.acid</th>\n",
       "      <th>residual.sugar</th>\n",
       "      <th>chlorides</th>\n",
       "      <th>free.sulfur.dioxide</th>\n",
       "      <th>total.sulfur.dioxide</th>\n",
       "      <th>density</th>\n",
       "      <th>pH</th>\n",
       "      <th>sulphates</th>\n",
       "      <th>alcohol</th>\n",
       "      <th>quality</th>\n",
       "      <th>target</th>\n",
       "    </tr>\n",
       "  </thead>\n",
       "  <tbody>\n",
       "    <tr>\n",
       "      <th>fixed.acidity</th>\n",
       "      <td>1.000000</td>\n",
       "      <td>-0.017678</td>\n",
       "      <td>0.296699</td>\n",
       "      <td>0.100838</td>\n",
       "      <td>0.022705</td>\n",
       "      <td>-0.062334</td>\n",
       "      <td>0.085836</td>\n",
       "      <td>0.281708</td>\n",
       "      <td>-0.441117</td>\n",
       "      <td>-0.028636</td>\n",
       "      <td>-0.139380</td>\n",
       "      <td>-0.128268</td>\n",
       "      <td>-0.116258</td>\n",
       "    </tr>\n",
       "    <tr>\n",
       "      <th>volatile.acidity</th>\n",
       "      <td>-0.017678</td>\n",
       "      <td>1.000000</td>\n",
       "      <td>-0.154755</td>\n",
       "      <td>0.049888</td>\n",
       "      <td>0.083050</td>\n",
       "      <td>-0.110104</td>\n",
       "      <td>0.080058</td>\n",
       "      <td>0.026917</td>\n",
       "      <td>-0.024766</td>\n",
       "      <td>-0.020764</td>\n",
       "      <td>0.063971</td>\n",
       "      <td>-0.204600</td>\n",
       "      <td>-0.190349</td>\n",
       "    </tr>\n",
       "    <tr>\n",
       "      <th>citric.acid</th>\n",
       "      <td>0.296699</td>\n",
       "      <td>-0.154755</td>\n",
       "      <td>1.000000</td>\n",
       "      <td>0.118084</td>\n",
       "      <td>0.116644</td>\n",
       "      <td>0.105483</td>\n",
       "      <td>0.128455</td>\n",
       "      <td>0.174329</td>\n",
       "      <td>-0.179168</td>\n",
       "      <td>0.064520</td>\n",
       "      <td>-0.096228</td>\n",
       "      <td>-0.011385</td>\n",
       "      <td>-0.024162</td>\n",
       "    </tr>\n",
       "    <tr>\n",
       "      <th>residual.sugar</th>\n",
       "      <td>0.100838</td>\n",
       "      <td>0.049888</td>\n",
       "      <td>0.118084</td>\n",
       "      <td>1.000000</td>\n",
       "      <td>0.093662</td>\n",
       "      <td>0.296133</td>\n",
       "      <td>0.416324</td>\n",
       "      <td>0.838406</td>\n",
       "      <td>-0.197122</td>\n",
       "      <td>-0.017671</td>\n",
       "      <td>-0.450132</td>\n",
       "      <td>-0.109029</td>\n",
       "      <td>-0.140585</td>\n",
       "    </tr>\n",
       "    <tr>\n",
       "      <th>chlorides</th>\n",
       "      <td>0.022705</td>\n",
       "      <td>0.083050</td>\n",
       "      <td>0.116644</td>\n",
       "      <td>0.093662</td>\n",
       "      <td>1.000000</td>\n",
       "      <td>0.087720</td>\n",
       "      <td>0.200554</td>\n",
       "      <td>0.262820</td>\n",
       "      <td>-0.104826</td>\n",
       "      <td>0.023743</td>\n",
       "      <td>-0.365204</td>\n",
       "      <td>-0.225507</td>\n",
       "      <td>-0.237642</td>\n",
       "    </tr>\n",
       "    <tr>\n",
       "      <th>free.sulfur.dioxide</th>\n",
       "      <td>-0.062334</td>\n",
       "      <td>-0.110104</td>\n",
       "      <td>0.105483</td>\n",
       "      <td>0.296133</td>\n",
       "      <td>0.087720</td>\n",
       "      <td>1.000000</td>\n",
       "      <td>0.623466</td>\n",
       "      <td>0.278794</td>\n",
       "      <td>0.001901</td>\n",
       "      <td>0.074506</td>\n",
       "      <td>-0.233299</td>\n",
       "      <td>0.009248</td>\n",
       "      <td>-0.015229</td>\n",
       "    </tr>\n",
       "    <tr>\n",
       "      <th>total.sulfur.dioxide</th>\n",
       "      <td>0.085836</td>\n",
       "      <td>0.080058</td>\n",
       "      <td>0.128455</td>\n",
       "      <td>0.416324</td>\n",
       "      <td>0.200554</td>\n",
       "      <td>0.623466</td>\n",
       "      <td>1.000000</td>\n",
       "      <td>0.538055</td>\n",
       "      <td>-0.009614</td>\n",
       "      <td>0.132380</td>\n",
       "      <td>-0.459396</td>\n",
       "      <td>-0.195553</td>\n",
       "      <td>-0.225345</td>\n",
       "    </tr>\n",
       "    <tr>\n",
       "      <th>density</th>\n",
       "      <td>0.281708</td>\n",
       "      <td>0.026917</td>\n",
       "      <td>0.174329</td>\n",
       "      <td>0.838406</td>\n",
       "      <td>0.262820</td>\n",
       "      <td>0.278794</td>\n",
       "      <td>0.538055</td>\n",
       "      <td>1.000000</td>\n",
       "      <td>-0.112806</td>\n",
       "      <td>0.065206</td>\n",
       "      <td>-0.780134</td>\n",
       "      <td>-0.342214</td>\n",
       "      <td>-0.370620</td>\n",
       "    </tr>\n",
       "    <tr>\n",
       "      <th>pH</th>\n",
       "      <td>-0.441117</td>\n",
       "      <td>-0.024766</td>\n",
       "      <td>-0.179168</td>\n",
       "      <td>-0.197122</td>\n",
       "      <td>-0.104826</td>\n",
       "      <td>0.001901</td>\n",
       "      <td>-0.009614</td>\n",
       "      <td>-0.112806</td>\n",
       "      <td>1.000000</td>\n",
       "      <td>0.146015</td>\n",
       "      <td>0.142734</td>\n",
       "      <td>0.111445</td>\n",
       "      <td>0.119245</td>\n",
       "    </tr>\n",
       "    <tr>\n",
       "      <th>sulphates</th>\n",
       "      <td>-0.028636</td>\n",
       "      <td>-0.020764</td>\n",
       "      <td>0.064520</td>\n",
       "      <td>-0.017671</td>\n",
       "      <td>0.023743</td>\n",
       "      <td>0.074506</td>\n",
       "      <td>0.132380</td>\n",
       "      <td>0.065206</td>\n",
       "      <td>0.146015</td>\n",
       "      <td>1.000000</td>\n",
       "      <td>0.003173</td>\n",
       "      <td>0.060193</td>\n",
       "      <td>0.067333</td>\n",
       "    </tr>\n",
       "    <tr>\n",
       "      <th>alcohol</th>\n",
       "      <td>-0.139380</td>\n",
       "      <td>0.063971</td>\n",
       "      <td>-0.096228</td>\n",
       "      <td>-0.450132</td>\n",
       "      <td>-0.365204</td>\n",
       "      <td>-0.233299</td>\n",
       "      <td>-0.459396</td>\n",
       "      <td>-0.780134</td>\n",
       "      <td>0.142734</td>\n",
       "      <td>0.003173</td>\n",
       "      <td>1.000000</td>\n",
       "      <td>0.483100</td>\n",
       "      <td>0.513865</td>\n",
       "    </tr>\n",
       "    <tr>\n",
       "      <th>quality</th>\n",
       "      <td>-0.128268</td>\n",
       "      <td>-0.204600</td>\n",
       "      <td>-0.011385</td>\n",
       "      <td>-0.109029</td>\n",
       "      <td>-0.225507</td>\n",
       "      <td>0.009248</td>\n",
       "      <td>-0.195553</td>\n",
       "      <td>-0.342214</td>\n",
       "      <td>0.111445</td>\n",
       "      <td>0.060193</td>\n",
       "      <td>0.483100</td>\n",
       "      <td>1.000000</td>\n",
       "      <td>0.948808</td>\n",
       "    </tr>\n",
       "    <tr>\n",
       "      <th>target</th>\n",
       "      <td>-0.116258</td>\n",
       "      <td>-0.190349</td>\n",
       "      <td>-0.024162</td>\n",
       "      <td>-0.140585</td>\n",
       "      <td>-0.237642</td>\n",
       "      <td>-0.015229</td>\n",
       "      <td>-0.225345</td>\n",
       "      <td>-0.370620</td>\n",
       "      <td>0.119245</td>\n",
       "      <td>0.067333</td>\n",
       "      <td>0.513865</td>\n",
       "      <td>0.948808</td>\n",
       "      <td>1.000000</td>\n",
       "    </tr>\n",
       "  </tbody>\n",
       "</table>\n",
       "</div>"
      ],
      "text/plain": [
       "                      fixed.acidity  volatile.acidity  citric.acid  \\\n",
       "fixed.acidity              1.000000         -0.017678     0.296699   \n",
       "volatile.acidity          -0.017678          1.000000    -0.154755   \n",
       "citric.acid                0.296699         -0.154755     1.000000   \n",
       "residual.sugar             0.100838          0.049888     0.118084   \n",
       "chlorides                  0.022705          0.083050     0.116644   \n",
       "free.sulfur.dioxide       -0.062334         -0.110104     0.105483   \n",
       "total.sulfur.dioxide       0.085836          0.080058     0.128455   \n",
       "density                    0.281708          0.026917     0.174329   \n",
       "pH                        -0.441117         -0.024766    -0.179168   \n",
       "sulphates                 -0.028636         -0.020764     0.064520   \n",
       "alcohol                   -0.139380          0.063971    -0.096228   \n",
       "quality                   -0.128268         -0.204600    -0.011385   \n",
       "target                    -0.116258         -0.190349    -0.024162   \n",
       "\n",
       "                      residual.sugar  chlorides  free.sulfur.dioxide  \\\n",
       "fixed.acidity               0.100838   0.022705            -0.062334   \n",
       "volatile.acidity            0.049888   0.083050            -0.110104   \n",
       "citric.acid                 0.118084   0.116644             0.105483   \n",
       "residual.sugar              1.000000   0.093662             0.296133   \n",
       "chlorides                   0.093662   1.000000             0.087720   \n",
       "free.sulfur.dioxide         0.296133   0.087720             1.000000   \n",
       "total.sulfur.dioxide        0.416324   0.200554             0.623466   \n",
       "density                     0.838406   0.262820             0.278794   \n",
       "pH                         -0.197122  -0.104826             0.001901   \n",
       "sulphates                  -0.017671   0.023743             0.074506   \n",
       "alcohol                    -0.450132  -0.365204            -0.233299   \n",
       "quality                    -0.109029  -0.225507             0.009248   \n",
       "target                     -0.140585  -0.237642            -0.015229   \n",
       "\n",
       "                      total.sulfur.dioxide   density        pH  sulphates  \\\n",
       "fixed.acidity                     0.085836  0.281708 -0.441117  -0.028636   \n",
       "volatile.acidity                  0.080058  0.026917 -0.024766  -0.020764   \n",
       "citric.acid                       0.128455  0.174329 -0.179168   0.064520   \n",
       "residual.sugar                    0.416324  0.838406 -0.197122  -0.017671   \n",
       "chlorides                         0.200554  0.262820 -0.104826   0.023743   \n",
       "free.sulfur.dioxide               0.623466  0.278794  0.001901   0.074506   \n",
       "total.sulfur.dioxide              1.000000  0.538055 -0.009614   0.132380   \n",
       "density                           0.538055  1.000000 -0.112806   0.065206   \n",
       "pH                               -0.009614 -0.112806  1.000000   0.146015   \n",
       "sulphates                         0.132380  0.065206  0.146015   1.000000   \n",
       "alcohol                          -0.459396 -0.780134  0.142734   0.003173   \n",
       "quality                          -0.195553 -0.342214  0.111445   0.060193   \n",
       "target                           -0.225345 -0.370620  0.119245   0.067333   \n",
       "\n",
       "                       alcohol   quality    target  \n",
       "fixed.acidity        -0.139380 -0.128268 -0.116258  \n",
       "volatile.acidity      0.063971 -0.204600 -0.190349  \n",
       "citric.acid          -0.096228 -0.011385 -0.024162  \n",
       "residual.sugar       -0.450132 -0.109029 -0.140585  \n",
       "chlorides            -0.365204 -0.225507 -0.237642  \n",
       "free.sulfur.dioxide  -0.233299  0.009248 -0.015229  \n",
       "total.sulfur.dioxide -0.459396 -0.195553 -0.225345  \n",
       "density              -0.780134 -0.342214 -0.370620  \n",
       "pH                    0.142734  0.111445  0.119245  \n",
       "sulphates             0.003173  0.060193  0.067333  \n",
       "alcohol               1.000000  0.483100  0.513865  \n",
       "quality               0.483100  1.000000  0.948808  \n",
       "target                0.513865  0.948808  1.000000  "
      ]
     },
     "execution_count": 42,
     "metadata": {},
     "output_type": "execute_result"
    }
   ],
   "source": [
    "df.corr()"
   ]
  },
  {
   "cell_type": "code",
   "execution_count": 43,
   "metadata": {},
   "outputs": [],
   "source": [
    "# df.drop(['citric.acid'],axis=1,inplace=True)\n",
    "# df.drop(['free.sulfur.dioxide'],axis=1,inplace=True)\n"
   ]
  },
  {
   "cell_type": "code",
   "execution_count": 44,
   "metadata": {},
   "outputs": [
    {
     "name": "stdout",
     "output_type": "stream",
     "text": [
      "<class 'pandas.core.frame.DataFrame'>\n",
      "Int64Index: 3799 entries, 2 to 4897\n",
      "Data columns (total 13 columns):\n",
      "fixed.acidity           3799 non-null float64\n",
      "volatile.acidity        3799 non-null float64\n",
      "citric.acid             3799 non-null float64\n",
      "residual.sugar          3799 non-null float64\n",
      "chlorides               3799 non-null float64\n",
      "free.sulfur.dioxide     3799 non-null float64\n",
      "total.sulfur.dioxide    3799 non-null float64\n",
      "density                 3799 non-null float64\n",
      "pH                      3799 non-null float64\n",
      "sulphates               3799 non-null float64\n",
      "alcohol                 3799 non-null float64\n",
      "quality                 3799 non-null int64\n",
      "target                  3799 non-null int64\n",
      "dtypes: float64(11), int64(2)\n",
      "memory usage: 415.5 KB\n"
     ]
    }
   ],
   "source": [
    "df.info()"
   ]
  },
  {
   "cell_type": "code",
   "execution_count": 45,
   "metadata": {},
   "outputs": [],
   "source": [
    "from sklearn.preprocessing import StandardScaler\n",
    "features = ['fixed.acidity','volatile.acidity','citric.acid','residual.sugar','chlorides','free.sulfur.dioxide','total.sulfur.dioxide','density','pH','sulphates','alcohol']\n",
    "\n",
    "# Separating out the features\n",
    "x = df.loc[:, features].values\n",
    "# Separating out the target\n",
    "y = df.loc[:,['target']].values\n",
    "\n"
   ]
  },
  {
   "cell_type": "markdown",
   "metadata": {},
   "source": [
    "# KMeans Without PCA"
   ]
  },
  {
   "cell_type": "code",
   "execution_count": 46,
   "metadata": {},
   "outputs": [
    {
     "data": {
      "image/png": "[encoded data removed]",
      "text/plain": [
       "<Figure size 432x288 with 1 Axes>"
      ]
     },
     "metadata": {
      "needs_background": "light"
     },
     "output_type": "display_data"
    }
   ],
   "source": [
    "#Finding the optimum number of clusters for k-means classification\n",
    "from sklearn.cluster import KMeans\n",
    "wcss = []\n",
    "\n",
    "# Trying kmeans for k=1 to k=10\n",
    "for i in range(1, 11):\n",
    "    kmeans = KMeans(n_clusters = i, init = 'k-means++', max_iter = 300, n_init = 10, random_state = 0)\n",
    "    kmeans.fit(x)\n",
    "    wcss.append(kmeans.inertia_)\n",
    "    \n",
    "#Plotting the results onto a line graph, allowing us to observe 'The elbow'\n",
    "plt.plot(range(1, 11), wcss)\n",
    "plt.title('The elbow method')\n",
    "plt.xlabel('Number of clusters')\n",
    "plt.ylabel('WCSS') #within cluster sum of squares\n",
    "plt.show()"
   ]
  },
  {
   "cell_type": "code",
   "execution_count": 47,
   "metadata": {},
   "outputs": [],
   "source": [
    "km = KMeans(n_clusters = 3 , init = 'k-means++', max_iter = 300, n_init = 10, random_state = 0)\n",
    "\n",
    "y_km= km.fit_predict(x)\n"
   ]
  },
  {
   "cell_type": "code",
   "execution_count": 48,
   "metadata": {},
   "outputs": [
    {
     "data": {
      "image/png": "[encoded data removed]",
      "text/plain": [
       "<Figure size 432x288 with 1 Axes>"
      ]
     },
     "metadata": {
      "needs_background": "light"
     },
     "output_type": "display_data"
    }
   ],
   "source": [
    "#Visualising the clusters by selecting only column 0 and 1\n",
    "plt.scatter(x[y_km == 0, 0], x[y_km == 0, 1], s = 20, c = 'red', label = 'LOW')\n",
    "plt.scatter(x[y_km == 1, 0], x[y_km == 1, 1], s = 20, c = 'blue', label = 'MEDIUM')\n",
    "plt.scatter(x[y_km == 2, 0], x[y_km == 2, 1], s = 20, c = 'green', label = 'HIGH')\n",
    "\n",
    "\n",
    "#Plotting the centroids of the clusters\n",
    "plt.scatter(km.cluster_centers_[:, 0], km.cluster_centers_[:,1], s = 50, c = 'yellow', label = 'Centroids')\n",
    "#print (df.columns)\n",
    "plt.title('KMeans CLustering')\n",
    "plt.xlabel(\"Principal Component 1\")\n",
    "plt.ylabel(\"Principal Component 2\")\n",
    "\n",
    "plt.legend()\n",
    "plt.show()"
   ]
  },
  {
   "cell_type": "markdown",
   "metadata": {},
   "source": [
    "## K-Means Clustering with PCA"
   ]
  },
  {
   "cell_type": "markdown",
   "metadata": {},
   "source": [
    "**Performing 2D Principal Component Analysis(PCA)**"
   ]
  },
  {
   "cell_type": "code",
   "execution_count": 49,
   "metadata": {},
   "outputs": [
    {
     "data": {
      "text/html": [
       "<div>\n",
       "<style scoped>\n",
       "    .dataframe tbody tr th:only-of-type {\n",
       "        vertical-align: middle;\n",
       "    }\n",
       "\n",
       "    .dataframe tbody tr th {\n",
       "        vertical-align: top;\n",
       "    }\n",
       "\n",
       "    .dataframe thead th {\n",
       "        text-align: right;\n",
       "    }\n",
       "</style>\n",
       "<table border=\"1\" class=\"dataframe\">\n",
       "  <thead>\n",
       "    <tr style=\"text-align: right;\">\n",
       "      <th></th>\n",
       "      <th>principal component 1</th>\n",
       "      <th>principal component 2</th>\n",
       "    </tr>\n",
       "  </thead>\n",
       "  <tbody>\n",
       "    <tr>\n",
       "      <th>0</th>\n",
       "      <td>-41.666127</td>\n",
       "      <td>6.201612</td>\n",
       "    </tr>\n",
       "    <tr>\n",
       "      <th>1</th>\n",
       "      <td>48.575774</td>\n",
       "      <td>-1.543468</td>\n",
       "    </tr>\n",
       "    <tr>\n",
       "      <th>2</th>\n",
       "      <td>-41.666127</td>\n",
       "      <td>6.201612</td>\n",
       "    </tr>\n",
       "    <tr>\n",
       "      <th>3</th>\n",
       "      <td>-4.163946</td>\n",
       "      <td>-4.354422</td>\n",
       "    </tr>\n",
       "    <tr>\n",
       "      <th>4</th>\n",
       "      <td>33.258186</td>\n",
       "      <td>0.920381</td>\n",
       "    </tr>\n",
       "  </tbody>\n",
       "</table>\n",
       "</div>"
      ],
      "text/plain": [
       "   principal component 1  principal component 2\n",
       "0             -41.666127               6.201612\n",
       "1              48.575774              -1.543468\n",
       "2             -41.666127               6.201612\n",
       "3              -4.163946              -4.354422\n",
       "4              33.258186               0.920381"
      ]
     },
     "execution_count": 49,
     "metadata": {},
     "output_type": "execute_result"
    }
   ],
   "source": [
    "from sklearn.decomposition import PCA\n",
    "pca = PCA(n_components=2)\n",
    "\n",
    "\n",
    "pca_x = pca.fit_transform(x)\n",
    "principalDf = pd.DataFrame(data = pca_x\n",
    "             , columns = ['principal component 1', 'principal component 2'])\n",
    "principalDf.head()"
   ]
  },
  {
   "cell_type": "code",
   "execution_count": 50,
   "metadata": {},
   "outputs": [
    {
     "data": {
      "text/html": [
       "<div>\n",
       "<style scoped>\n",
       "    .dataframe tbody tr th:only-of-type {\n",
       "        vertical-align: middle;\n",
       "    }\n",
       "\n",
       "    .dataframe tbody tr th {\n",
       "        vertical-align: top;\n",
       "    }\n",
       "\n",
       "    .dataframe thead th {\n",
       "        text-align: right;\n",
       "    }\n",
       "</style>\n",
       "<table border=\"1\" class=\"dataframe\">\n",
       "  <thead>\n",
       "    <tr style=\"text-align: right;\">\n",
       "      <th></th>\n",
       "      <th>principal component 1</th>\n",
       "      <th>principal component 2</th>\n",
       "      <th>target</th>\n",
       "    </tr>\n",
       "  </thead>\n",
       "  <tbody>\n",
       "    <tr>\n",
       "      <th>0</th>\n",
       "      <td>-41.666127</td>\n",
       "      <td>6.201612</td>\n",
       "      <td>NaN</td>\n",
       "    </tr>\n",
       "    <tr>\n",
       "      <th>1</th>\n",
       "      <td>48.575774</td>\n",
       "      <td>-1.543468</td>\n",
       "      <td>NaN</td>\n",
       "    </tr>\n",
       "    <tr>\n",
       "      <th>2</th>\n",
       "      <td>-41.666127</td>\n",
       "      <td>6.201612</td>\n",
       "      <td>1.0</td>\n",
       "    </tr>\n",
       "    <tr>\n",
       "      <th>3</th>\n",
       "      <td>-4.163946</td>\n",
       "      <td>-4.354422</td>\n",
       "      <td>1.0</td>\n",
       "    </tr>\n",
       "    <tr>\n",
       "      <th>4</th>\n",
       "      <td>33.258186</td>\n",
       "      <td>0.920381</td>\n",
       "      <td>NaN</td>\n",
       "    </tr>\n",
       "  </tbody>\n",
       "</table>\n",
       "</div>"
      ],
      "text/plain": [
       "   principal component 1  principal component 2  target\n",
       "0             -41.666127               6.201612     NaN\n",
       "1              48.575774              -1.543468     NaN\n",
       "2             -41.666127               6.201612     1.0\n",
       "3              -4.163946              -4.354422     1.0\n",
       "4              33.258186               0.920381     NaN"
      ]
     },
     "execution_count": 50,
     "metadata": {},
     "output_type": "execute_result"
    }
   ],
   "source": [
    "finalDf = pd.concat([principalDf, df[['target']]], axis = 1)\n",
    "finalDf.head()"
   ]
  },
  {
   "cell_type": "code",
   "execution_count": 51,
   "metadata": {
    "scrolled": false
   },
   "outputs": [
    {
     "data": {
      "image/png": "[encoded data removed]",
      "text/plain": [
       "<Figure size 1152x576 with 1 Axes>"
      ]
     },
     "metadata": {
      "needs_background": "light"
     },
     "output_type": "display_data"
    }
   ],
   "source": [
    "fig = plt.figure(figsize = (16,8))\n",
    "ax1 = fig.add_subplot(1,2,1) \n",
    "ax1.set_xlabel('Principal Component 1', fontsize = 10)\n",
    "ax1.set_ylabel('Principal Component 2', fontsize = 10)\n",
    "ax1.set_title('2 Component PCA', fontsize = 15)\n",
    "\n",
    "\n",
    "targets = [0,1,2]\n",
    "i=0\n",
    "colors = [\"red\",\"yellow\",\"green\"]\n",
    "for target, color in zip(targets,colors):\n",
    "    indicesToKeep = finalDf['target'] == target\n",
    "    ax1.scatter(finalDf.loc[indicesToKeep, 'principal component 1']\n",
    "               , finalDf.loc[indicesToKeep, 'principal component 2']\n",
    "               , c = color\n",
    "               , s = 50)\n",
    "    i=i+1\n",
    "ax1.legend([\"LOW\",\"MEDIUM\",\"HIGH\"])\n",
    "ax1.grid()"
   ]
  },
  {
   "cell_type": "markdown",
   "metadata": {},
   "source": [
    "#### Explained Variance\n",
    "\n",
    "The explained variance tells us how much information (variance) can be attributed to each of the principal components. \n",
    "Together, the first two principal components contain 98.89% of the information. The first principal component contains 90.96% of the variance and the second principal component contains 7.9% of the variance. "
   ]
  },
  {
   "cell_type": "code",
   "execution_count": 52,
   "metadata": {},
   "outputs": [
    {
     "name": "stdout",
     "output_type": "stream",
     "text": [
      "[0.90874247 0.08053283]\n",
      "0.9892753013274603\n"
     ]
    }
   ],
   "source": [
    "print(pca.explained_variance_ratio_)\n",
    "\n",
    "print(pca.explained_variance_ratio_.sum())"
   ]
  },
  {
   "cell_type": "code",
   "execution_count": 53,
   "metadata": {},
   "outputs": [
    {
     "data": {
      "image/png": "[encoded data removed]",
      "text/plain": [
       "<Figure size 432x288 with 1 Axes>"
      ]
     },
     "metadata": {
      "needs_background": "light"
     },
     "output_type": "display_data"
    }
   ],
   "source": [
    "#Finding the optimum number of clusters for k-means classification\n",
    "from sklearn.cluster import KMeans\n",
    "wcss = []\n",
    "\n",
    "# Trying kmeans for k=1 to k=10\n",
    "for i in range(1, 11):\n",
    "    kmeans = KMeans(n_clusters = i, init = 'k-means++', max_iter = 300, n_init = 10, random_state = 0)\n",
    "    kmeans.fit(principalDf)\n",
    "    wcss.append(kmeans.inertia_)\n",
    "    \n",
    "#Plotting the results onto a line graph, allowing us to observe 'The elbow'\n",
    "plt.plot(range(1, 11), wcss)\n",
    "plt.title('The elbow method')\n",
    "plt.xlabel('Number of clusters')\n",
    "plt.ylabel('WCSS') #within cluster sum of squares\n",
    "plt.show()"
   ]
  },
  {
   "cell_type": "code",
   "execution_count": 54,
   "metadata": {},
   "outputs": [],
   "source": [
    "km_pca = KMeans(n_clusters = 3 , init = 'k-means++', max_iter = 300, n_init = 10, random_state = 0)\n",
    "\n",
    "y_km_pca = km_pca.fit_predict(principalDf)"
   ]
  },
  {
   "cell_type": "code",
   "execution_count": 55,
   "metadata": {},
   "outputs": [],
   "source": [
    "principalDf=principalDf.values"
   ]
  },
  {
   "cell_type": "code",
   "execution_count": 56,
   "metadata": {
    "scrolled": true
   },
   "outputs": [
    {
     "data": {
      "image/png": "[encoded data removed]",
      "text/plain": [
       "<Figure size 432x288 with 1 Axes>"
      ]
     },
     "metadata": {
      "needs_background": "light"
     },
     "output_type": "display_data"
    }
   ],
   "source": [
    "#Visualising the clusters by selecting only column 0 and 1\n",
    "plt.scatter(principalDf[y_km_pca == 0, 0], principalDf[y_km_pca == 0, 1], s = 20, c = 'red', label = 'LOW')\n",
    "plt.scatter(principalDf[y_km_pca == 1, 0], principalDf[y_km_pca == 1, 1], s = 20, c = 'yellow', label = 'MEDIUM')\n",
    "plt.scatter(principalDf[y_km_pca == 2, 0], principalDf[y_km_pca == 2, 1], s = 20, c = 'green', label = 'HIGH')\n",
    "\n",
    "\n",
    "#Plotting the centroids of the clusters\n",
    "plt.scatter(km_pca.cluster_centers_[:, 0], km_pca.cluster_centers_[:,1], s = 50, c = 'blue', label = 'Centroids')\n",
    "#print (df.columns)\n",
    "plt.title('KMeans CLustering')\n",
    "plt.xlabel(\"Principal Component 1\")\n",
    "plt.ylabel(\"Principal Component 2\")\n",
    "\n",
    "plt.legend()\n",
    "plt.show()"
   ]
  },
  {
   "cell_type": "code",
   "execution_count": 57,
   "metadata": {},
   "outputs": [],
   "source": [
    "# from sklearn import metrics\n",
    "# #test_x = [[ 6.2,0.45,0.26,4.4,0.063,63.0,206.0,0.994,3.27,0.52,9.8]] #8\n",
    "# test_x = [[ 6.8,0.26,0.42,1.7,0.049,41,122,0.993,3.47,0.48,10.5]]#8\n",
    "# # test_x = [[ 7.4,0.27,0.48,1.1,0.047,17,132,0.9914,3.19,0.49,11.6]] #6\n",
    "# # test_x = [[ 5.8,0.24,0.44,3.5,0.029,5,109,0.9913,3.53,0.43,11.7]] #3\n",
    "# pca_x = pca.transform(test_x)\n",
    "# print(pca_x)\n",
    "# prediction=km_pca.predict( pca_x )   \n",
    "# if prediction == 0 :\n",
    "#     print(\"LOW\")\n",
    "# elif prediction == 1:\n",
    "#     print(\"MEDIUM\")\n",
    "# else : print(\"HIGH\") \n",
    "\n"
   ]
  },
  {
   "cell_type": "markdown",
   "metadata": {},
   "source": [
    "#  Agglomerative Clustering\n",
    "To visualize the hierarchy, we are using the linkage and dendogram function from scipy (not scikit-learn) "
   ]
  },
  {
   "cell_type": "code",
   "execution_count": 58,
   "metadata": {},
   "outputs": [],
   "source": [
    "# from sklearn.preprocessing import normalize\n",
    "# data_scaled = normalize(principalDf)\n",
    "# data_scaled = pd.DataFrame(data_scaled, columns=principalDf.values)\n",
    "# data_scaled.head()\n",
    "scaled_x = StandardScaler().fit_transform(pca_x)\n"
   ]
  },
  {
   "cell_type": "markdown",
   "metadata": {},
   "source": [
    "The x-axis contains the samples and y-axis represents the distance between these samples. The vertical line with maximum distance is the blue line and hence we can decide a threshold of 47 and cut the dendrogram:"
   ]
  },
  {
   "cell_type": "code",
   "execution_count": null,
   "metadata": {},
   "outputs": [],
   "source": [
    "from scipy.cluster.hierarchy import dendrogram, linkage\n",
    "\n",
    "# generate the linkage matrix\n",
    "Z = linkage(scaled_x, 'ward')\n",
    "\n",
    "# set cut-off to 150 cluster merges\n",
    "max_d = 45          # max_d as in max_distance\n",
    "\n",
    "plt.figure(figsize=(25, 10))\n",
    "plt.title('WineQuality Hierarchical Clustering Dendrogram')\n",
    "plt.ylabel('distance')\n",
    "dendrogram(\n",
    "    Z,\n",
    "    truncate_mode='lastp',  # show only the last p merged clusters\n",
    "    p=150,                  # Try changing values of p\n",
    "    leaf_rotation=90.,      # rotates the x axis labels\n",
    "    leaf_font_size=8.,      # font size for the x axis labels\n",
    ")\n",
    "plt.axhline(y=max_d, c='k')\n",
    "plt.show()"
   ]
  },
  {
   "cell_type": "markdown",
   "metadata": {},
   "source": [
    "Thereshold = 47, 3 clusters. This is same as the finding from k-means clustering."
   ]
  },
  {
   "cell_type": "code",
   "execution_count": 60,
   "metadata": {},
   "outputs": [],
   "source": [
    "y = df['target'].values"
   ]
  },
  {
   "cell_type": "code",
   "execution_count": 61,
   "metadata": {},
   "outputs": [],
   "source": [
    "from sklearn.cluster import AgglomerativeClustering\n",
    "agglomerative = AgglomerativeClustering(linkage=\"ward\", affinity='euclidean', n_clusters=3)\n",
    "y_agglomerative = agglomerative.fit_predict(principalDf);\n"
   ]
  },
  {
   "cell_type": "code",
   "execution_count": 62,
   "metadata": {},
   "outputs": [
    {
     "data": {
      "text/plain": [
       "Text(0, 0.5, 'Principal Component 2')"
      ]
     },
     "execution_count": 62,
     "metadata": {},
     "output_type": "execute_result"
    },
    {
     "data": {
      "image/png": "[encoded data removed]",
      "text/plain": [
       "<Figure size 720x504 with 1 Axes>"
      ]
     },
     "metadata": {
      "needs_background": "light"
     },
     "output_type": "display_data"
    }
   ],
   "source": [
    "plt.figure(figsize=(10, 7))  \n",
    "plt.scatter(scaled_x[:,0], scaled_x[:,1], c=agglomerative.labels_, cmap='rainbow')  \n",
    "\n",
    "plt.title('Agglomerative Clustering')\n",
    "plt.xlabel(\"Principal Component 1\")\n",
    "plt.ylabel(\"Principal Component 2\")"
   ]
  },
  {
   "cell_type": "markdown",
   "metadata": {},
   "source": [
    "# DBSCAN"
   ]
  },
  {
   "cell_type": "code",
   "execution_count": 106,
   "metadata": {},
   "outputs": [
    {
     "data": {
      "image/png": "[encoded data removed]",
      "text/plain": [
       "<Figure size 432x288 with 1 Axes>"
      ]
     },
     "metadata": {
      "needs_background": "light"
     },
     "output_type": "display_data"
    }
   ],
   "source": [
    "from sklearn.cluster import DBSCAN\n",
    "from sklearn.preprocessing import StandardScaler\n",
    "scaler = StandardScaler()\n",
    "X_scaled = scaler.fit_transform(pca_x)\n",
    "\n",
    "# cluster the data\n",
    "dbscan = DBSCAN(eps=0.123, min_samples = 2)\n",
    "y_dbscan1 = dbscan.fit_predict(X_scaled)\n",
    "\n",
    "# plot the cluster assignments\n",
    "plt.scatter(pca_x[:, 0], pca_x[:, 1], c=y_dbscan1)\n",
    "plt.title('DBSCAN CLustering')\n",
    "plt.xlabel(\"Principal Component 1\")\n",
    "plt.ylabel(\"Principal Component 2\")\n",
    "\n",
    "plt.show()"
   ]
  },
  {
   "cell_type": "code",
   "execution_count": 129,
   "metadata": {},
   "outputs": [
    {
     "data": {
      "image/png": "[encoded data removed]",
      "text/plain": [
       "<Figure size 432x288 with 1 Axes>"
      ]
     },
     "metadata": {
      "needs_background": "light"
     },
     "output_type": "display_data"
    }
   ],
   "source": [
    "from sklearn.cluster import DBSCAN\n",
    "from sklearn.preprocessing import StandardScaler\n",
    "scaler = StandardScaler()\n",
    "X_scaled = scaler.fit_transform(pca_x)\n",
    "\n",
    "# cluster the data\n",
    "dbscan = DBSCAN(eps=0.3, min_samples = 3)\n",
    "y_dbscan2 = dbscan.fit_predict(X_scaled)\n",
    "\n",
    "# plot the cluster assignments\n",
    "plt.scatter(pca_x[:, 0], pca_x[:, 1], c=y_dbscan2)\n",
    "plt.title('DBSCAN CLustering')\n",
    "plt.xlabel(\"Principal Component 1\")\n",
    "plt.ylabel(\"Principal Component 2\")\n",
    "\n",
    "plt.show()"
   ]
  },
  {
   "cell_type": "markdown",
   "metadata": {},
   "source": [
    "## Evaluation"
   ]
  },
  {
   "cell_type": "markdown",
   "metadata": {},
   "source": [
    "**Evaluation For KMeans Clustering With PCA**"
   ]
  },
  {
   "cell_type": "code",
   "execution_count": 123,
   "metadata": {},
   "outputs": [],
   "source": [
    "n_clusters_ = len(set(y_km_pca)) - (1 if -1 in y_km_pca else 0)\n",
    "n_noise_ = list(y_km_pca).count(-1)"
   ]
  },
  {
   "cell_type": "code",
   "execution_count": 124,
   "metadata": {
    "scrolled": true
   },
   "outputs": [
    {
     "name": "stdout",
     "output_type": "stream",
     "text": [
      "Estimated number of clusters: 3\n",
      "Estimated number of noise points: 0\n",
      "Homogeneity: 0.032\n",
      "Completeness: 0.032\n",
      "V-measure: 0.032\n",
      "Adjusted Rand Index: 0.017\n",
      "Adjusted Mutual Information: 0.031\n"
     ]
    },
    {
     "name": "stderr",
     "output_type": "stream",
     "text": [
      "/Users/hninnwe/anaconda3/lib/python3.7/site-packages/sklearn/metrics/cluster/supervised.py:732: FutureWarning: The behavior of AMI will change in version 0.22. To match the behavior of 'v_measure_score', AMI will use average_method='arithmetic' by default.\n",
      "  FutureWarning)\n"
     ]
    },
    {
     "name": "stdout",
     "output_type": "stream",
     "text": [
      "Silhouette Coefficient: 0.411\n"
     ]
    }
   ],
   "source": [
    "from sklearn import metrics\n",
    "print('Estimated number of clusters: %d' % n_clusters_)\n",
    "print('Estimated number of noise points: %d' % n_noise_)\n",
    "print(\"Homogeneity: %0.3f\" % metrics.homogeneity_score(y, y_km_pca))\n",
    "print(\"Completeness: %0.3f\" % metrics.completeness_score(y, y_km_pca))\n",
    "print(\"V-measure: %0.3f\" % metrics.v_measure_score(y, y_km_pca))\n",
    "print(\"Adjusted Rand Index: %0.3f\"\n",
    "      % metrics.adjusted_rand_score(y, y_km_pca))\n",
    "print(\"Adjusted Mutual Information: %0.3f\"\n",
    "      % metrics.adjusted_mutual_info_score(y, y_km_pca))\n",
    "print(\"Silhouette Coefficient: %0.3f\"\n",
    "      % metrics.silhouette_score(x, y_km_pca))"
   ]
  },
  {
   "cell_type": "markdown",
   "metadata": {},
   "source": [
    "**Evaluation for KMeans Clustering Without PCA**"
   ]
  },
  {
   "cell_type": "code",
   "execution_count": 125,
   "metadata": {},
   "outputs": [],
   "source": [
    "n_clusters_ = len(set(y_km)) - (1 if -1 in y_km else 0)\n",
    "n_noise_ = list(y_km).count(-1)"
   ]
  },
  {
   "cell_type": "code",
   "execution_count": 126,
   "metadata": {},
   "outputs": [
    {
     "name": "stdout",
     "output_type": "stream",
     "text": [
      "Estimated number of clusters: 3\n",
      "Estimated number of noise points: 0\n",
      "Homogeneity: 0.031\n",
      "Completeness: 0.032\n",
      "V-measure: 0.031\n",
      "Adjusted Rand Index: 0.017\n",
      "Adjusted Mutual Information: 0.031\n",
      "Silhouette Coefficient: 0.411\n"
     ]
    },
    {
     "name": "stderr",
     "output_type": "stream",
     "text": [
      "/Users/hninnwe/anaconda3/lib/python3.7/site-packages/sklearn/metrics/cluster/supervised.py:732: FutureWarning: The behavior of AMI will change in version 0.22. To match the behavior of 'v_measure_score', AMI will use average_method='arithmetic' by default.\n",
      "  FutureWarning)\n"
     ]
    }
   ],
   "source": [
    "from sklearn import metrics\n",
    "print('Estimated number of clusters: %d' % n_clusters_)\n",
    "print('Estimated number of noise points: %d' % n_noise_)\n",
    "print(\"Homogeneity: %0.3f\" % metrics.homogeneity_score(y, y_km))\n",
    "print(\"Completeness: %0.3f\" % metrics.completeness_score(y, y_km))\n",
    "print(\"V-measure: %0.3f\" % metrics.v_measure_score(y, y_km))\n",
    "print(\"Adjusted Rand Index: %0.3f\"\n",
    "      % metrics.adjusted_rand_score(y, y_km))\n",
    "print(\"Adjusted Mutual Information: %0.3f\"\n",
    "      % metrics.adjusted_mutual_info_score(y, y_km))\n",
    "print(\"Silhouette Coefficient: %0.3f\"\n",
    "      % metrics.silhouette_score(x, y_km))"
   ]
  },
  {
   "cell_type": "markdown",
   "metadata": {},
   "source": [
    "**Evaluation for Agglomerative Clustering**"
   ]
  },
  {
   "cell_type": "code",
   "execution_count": 68,
   "metadata": {},
   "outputs": [],
   "source": [
    "n_clusters_ = len(set(y_agglomerative)) - (1 if -1 in y_agglomerative else 0)\n",
    "n_noise_ = list(y_agglomerative).count(-1)"
   ]
  },
  {
   "cell_type": "code",
   "execution_count": 69,
   "metadata": {},
   "outputs": [
    {
     "name": "stdout",
     "output_type": "stream",
     "text": [
      "Estimated number of clusters: 3\n",
      "Estimated number of noise points: 0\n",
      "Homogeneity: 0.030\n",
      "Completeness: 0.032\n",
      "V-measure: 0.031\n",
      "Adjusted Rand Index: 0.019\n",
      "Adjusted Mutual Information: 0.030\n"
     ]
    },
    {
     "name": "stderr",
     "output_type": "stream",
     "text": [
      "/Users/hninnwe/anaconda3/lib/python3.7/site-packages/sklearn/metrics/cluster/supervised.py:732: FutureWarning: The behavior of AMI will change in version 0.22. To match the behavior of 'v_measure_score', AMI will use average_method='arithmetic' by default.\n",
      "  FutureWarning)\n"
     ]
    },
    {
     "name": "stdout",
     "output_type": "stream",
     "text": [
      "Silhouette Coefficient: 0.392\n"
     ]
    }
   ],
   "source": [
    "print('Estimated number of clusters: %d' % n_clusters_)\n",
    "print('Estimated number of noise points: %d' % n_noise_)\n",
    "print(\"Homogeneity: %0.3f\" % metrics.homogeneity_score(y, y_agglomerative))\n",
    "print(\"Completeness: %0.3f\" % metrics.completeness_score(y, y_agglomerative))\n",
    "print(\"V-measure: %0.3f\" % metrics.v_measure_score(y, y_agglomerative))\n",
    "print(\"Adjusted Rand Index: %0.3f\"\n",
    "      % metrics.adjusted_rand_score(y, y_agglomerative))\n",
    "print(\"Adjusted Mutual Information: %0.3f\"\n",
    "      % metrics.adjusted_mutual_info_score(y,   ))\n",
    "print(\"Silhouette Coefficient: %0.3f\"\n",
    "      % metrics.silhouette_score(x, y_agglomerative))"
   ]
  },
  {
   "cell_type": "markdown",
   "metadata": {},
   "source": [
    "**Evaluation for DBSCAN Clustering(eps=0.123, min_samples = 2)**"
   ]
  },
  {
   "cell_type": "code",
   "execution_count": 108,
   "metadata": {},
   "outputs": [],
   "source": [
    "# Number of clusters in labels, ignoring noise if present.\n",
    "n_clusters_ = len(set(y_dbscan1)) - (1 if -1 in y_dbscan1 else 0)\n",
    "n_noise_ = list(y_dbscan1).count(-1)"
   ]
  },
  {
   "cell_type": "code",
   "execution_count": 109,
   "metadata": {},
   "outputs": [
    {
     "name": "stdout",
     "output_type": "stream",
     "text": [
      "Estimated number of clusters: 67\n",
      "Estimated number of noise points: 99\n",
      "Homogeneity: 0.036\n",
      "Completeness: 0.056\n",
      "V-measure: 0.044\n",
      "Adjusted Rand Index: -0.010\n",
      "Adjusted Mutual Information: 0.017\n"
     ]
    },
    {
     "name": "stderr",
     "output_type": "stream",
     "text": [
      "/Users/hninnwe/anaconda3/lib/python3.7/site-packages/sklearn/metrics/cluster/supervised.py:732: FutureWarning: The behavior of AMI will change in version 0.22. To match the behavior of 'v_measure_score', AMI will use average_method='arithmetic' by default.\n",
      "  FutureWarning)\n"
     ]
    },
    {
     "name": "stdout",
     "output_type": "stream",
     "text": [
      "Silhouette Coefficient: -0.502\n"
     ]
    }
   ],
   "source": [
    "print('Estimated number of clusters: %d' % n_clusters_)\n",
    "print('Estimated number of noise points: %d' % n_noise_)\n",
    "print(\"Homogeneity: %0.3f\" % metrics.homogeneity_score(y, y_dbscan1))\n",
    "print(\"Completeness: %0.3f\" % metrics.completeness_score(y, y_dbscan1))\n",
    "print(\"V-measure: %0.3f\" % metrics.v_measure_score(y, y_dbscan1))\n",
    "print(\"Adjusted Rand Index: %0.3f\"\n",
    "      % metrics.adjusted_rand_score(y, y_dbscan1))\n",
    "print(\"Adjusted Mutual Information: %0.3f\"\n",
    "      % metrics.adjusted_mutual_info_score(y, y_dbscan1))\n",
    "print(\"Silhouette Coefficient: %0.3f\"\n",
    "      % metrics.silhouette_score(x, y_dbscan1))"
   ]
  },
  {
   "cell_type": "markdown",
   "metadata": {},
   "source": [
    "**DBSCAN Clustering(eps=0.5, min_samples = 3)**"
   ]
  },
  {
   "cell_type": "code",
   "execution_count": 130,
   "metadata": {},
   "outputs": [],
   "source": [
    "# Number of clusters in labels, ignoring noise if present.\n",
    "n_clusters_ = len(set(y_dbscan2)) - (1 if -1 in y_dbscan2 else 0)\n",
    "n_noise_ = list(y_dbscan2).count(-1)"
   ]
  },
  {
   "cell_type": "code",
   "execution_count": 131,
   "metadata": {},
   "outputs": [
    {
     "name": "stdout",
     "output_type": "stream",
     "text": [
      "Estimated number of clusters: 4\n",
      "Estimated number of noise points: 30\n",
      "Homogeneity: 0.002\n",
      "Completeness: 0.028\n",
      "V-measure: 0.004\n",
      "Adjusted Rand Index: -0.002\n",
      "Adjusted Mutual Information: 0.001\n"
     ]
    },
    {
     "name": "stderr",
     "output_type": "stream",
     "text": [
      "/Users/hninnwe/anaconda3/lib/python3.7/site-packages/sklearn/metrics/cluster/supervised.py:732: FutureWarning: The behavior of AMI will change in version 0.22. To match the behavior of 'v_measure_score', AMI will use average_method='arithmetic' by default.\n",
      "  FutureWarning)\n"
     ]
    },
    {
     "name": "stdout",
     "output_type": "stream",
     "text": [
      "Silhouette Coefficient: 0.167\n"
     ]
    }
   ],
   "source": [
    "print('Estimated number of clusters: %d' % n_clusters_)\n",
    "print('Estimated number of noise points: %d' % n_noise_)\n",
    "print(\"Homogeneity: %0.3f\" % metrics.homogeneity_score(y, y_dbscan2))\n",
    "print(\"Completeness: %0.3f\" % metrics.completeness_score(y, y_dbscan2))\n",
    "print(\"V-measure: %0.3f\" % metrics.v_measure_score(y, y_dbscan2))\n",
    "print(\"Adjusted Rand Index: %0.3f\"\n",
    "      % metrics.adjusted_rand_score(y, y_dbscan2))\n",
    "print(\"Adjusted Mutual Information: %0.3f\"\n",
    "      % metrics.adjusted_mutual_info_score(y, y_dbscan2))\n",
    "print(\"Silhouette Coefficient: %0.3f\"\n",
    "      % metrics.silhouette_score(x, y_dbscan2))"
   ]
  },
  {
   "cell_type": "code",
   "execution_count": null,
   "metadata": {},
   "outputs": [],
   "source": []
  }
 ],
 "metadata": {
  "kernelspec": {
   "display_name": "Python 3",
   "language": "python",
   "name": "python3"
  },
  "language_info": {
   "codemirror_mode": {
    "name": "ipython",
    "version": 3
   },
   "file_extension": ".py",
   "mimetype": "text/x-python",
   "name": "python",
   "nbconvert_exporter": "python",
   "pygments_lexer": "ipython3",
   "version": "3.7.3"
  }
 },
 "nbformat": 4,
 "nbformat_minor": 2
}
