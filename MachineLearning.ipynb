{
 "cells": [
  {
   "cell_type": "code",
   "execution_count": 495,
   "metadata": {},
   "outputs": [],
   "source": [
    "# master.csv\n",
    "import pandas as pd\n",
    "import sklearn\n",
    "import matplotlib.pyplot as plt\n",
    "import numpy as np\n",
    "import seaborn as sns\n",
    "import time\n",
    "\n",
    "from sklearn.model_selection import train_test_split\n",
    "from sklearn.linear_model import LogisticRegression,LogisticRegressionCV\n",
    "from sklearn.svm import SVC\n",
    "from sklearn.tree import DecisionTreeClassifier,DecisionTreeRegressor\n",
    "from sklearn.ensemble import RandomForestClassifier\n",
    "from sklearn.neighbors import KNeighborsClassifier\n",
    "from sklearn.metrics import classification_report, confusion_matrix , accuracy_score\n",
    "\n",
    "from sklearn.externals.six import StringIO   \n",
    "from IPython.display import display, Image\n",
    "from sklearn.tree import export_graphviz"
   ]
  },
  {
   "cell_type": "code",
   "execution_count": 496,
   "metadata": {},
   "outputs": [
    {
     "data": {
      "text/html": [
       "<div>\n",
       "<style scoped>\n",
       "    .dataframe tbody tr th:only-of-type {\n",
       "        vertical-align: middle;\n",
       "    }\n",
       "\n",
       "    .dataframe tbody tr th {\n",
       "        vertical-align: top;\n",
       "    }\n",
       "\n",
       "    .dataframe thead th {\n",
       "        text-align: right;\n",
       "    }\n",
       "</style>\n",
       "<table border=\"1\" class=\"dataframe\">\n",
       "  <thead>\n",
       "    <tr style=\"text-align: right;\">\n",
       "      <th></th>\n",
       "      <th>country</th>\n",
       "      <th>year</th>\n",
       "      <th>sex</th>\n",
       "      <th>age</th>\n",
       "      <th>suicides_no</th>\n",
       "      <th>population</th>\n",
       "      <th>suicides/100k pop</th>\n",
       "      <th>country-year</th>\n",
       "      <th>HDI for year</th>\n",
       "      <th>gdp_for_year ($)</th>\n",
       "      <th>gdp_per_capita ($)</th>\n",
       "      <th>generation</th>\n",
       "    </tr>\n",
       "  </thead>\n",
       "  <tbody>\n",
       "    <tr>\n",
       "      <th>72</th>\n",
       "      <td>Albania</td>\n",
       "      <td>1995</td>\n",
       "      <td>male</td>\n",
       "      <td>25-34 years</td>\n",
       "      <td>13</td>\n",
       "      <td>232900</td>\n",
       "      <td>5.58</td>\n",
       "      <td>Albania1995</td>\n",
       "      <td>0.619</td>\n",
       "      <td>2,424,499,009</td>\n",
       "      <td>835</td>\n",
       "      <td>Generation X</td>\n",
       "    </tr>\n",
       "    <tr>\n",
       "      <th>73</th>\n",
       "      <td>Albania</td>\n",
       "      <td>1995</td>\n",
       "      <td>male</td>\n",
       "      <td>55-74 years</td>\n",
       "      <td>9</td>\n",
       "      <td>178000</td>\n",
       "      <td>5.06</td>\n",
       "      <td>Albania1995</td>\n",
       "      <td>0.619</td>\n",
       "      <td>2,424,499,009</td>\n",
       "      <td>835</td>\n",
       "      <td>Silent</td>\n",
       "    </tr>\n",
       "    <tr>\n",
       "      <th>74</th>\n",
       "      <td>Albania</td>\n",
       "      <td>1995</td>\n",
       "      <td>female</td>\n",
       "      <td>75+ years</td>\n",
       "      <td>2</td>\n",
       "      <td>40800</td>\n",
       "      <td>4.90</td>\n",
       "      <td>Albania1995</td>\n",
       "      <td>0.619</td>\n",
       "      <td>2,424,499,009</td>\n",
       "      <td>835</td>\n",
       "      <td>G.I. Generation</td>\n",
       "    </tr>\n",
       "    <tr>\n",
       "      <th>75</th>\n",
       "      <td>Albania</td>\n",
       "      <td>1995</td>\n",
       "      <td>female</td>\n",
       "      <td>15-24 years</td>\n",
       "      <td>13</td>\n",
       "      <td>283500</td>\n",
       "      <td>4.59</td>\n",
       "      <td>Albania1995</td>\n",
       "      <td>0.619</td>\n",
       "      <td>2,424,499,009</td>\n",
       "      <td>835</td>\n",
       "      <td>Generation X</td>\n",
       "    </tr>\n",
       "    <tr>\n",
       "      <th>76</th>\n",
       "      <td>Albania</td>\n",
       "      <td>1995</td>\n",
       "      <td>male</td>\n",
       "      <td>15-24 years</td>\n",
       "      <td>11</td>\n",
       "      <td>241200</td>\n",
       "      <td>4.56</td>\n",
       "      <td>Albania1995</td>\n",
       "      <td>0.619</td>\n",
       "      <td>2,424,499,009</td>\n",
       "      <td>835</td>\n",
       "      <td>Generation X</td>\n",
       "    </tr>\n",
       "  </tbody>\n",
       "</table>\n",
       "</div>"
      ],
      "text/plain": [
       "    country  year     sex          age  suicides_no  population  \\\n",
       "72  Albania  1995    male  25-34 years           13      232900   \n",
       "73  Albania  1995    male  55-74 years            9      178000   \n",
       "74  Albania  1995  female    75+ years            2       40800   \n",
       "75  Albania  1995  female  15-24 years           13      283500   \n",
       "76  Albania  1995    male  15-24 years           11      241200   \n",
       "\n",
       "    suicides/100k pop country-year  HDI for year  gdp_for_year ($)   \\\n",
       "72               5.58  Albania1995         0.619      2,424,499,009   \n",
       "73               5.06  Albania1995         0.619      2,424,499,009   \n",
       "74               4.90  Albania1995         0.619      2,424,499,009   \n",
       "75               4.59  Albania1995         0.619      2,424,499,009   \n",
       "76               4.56  Albania1995         0.619      2,424,499,009   \n",
       "\n",
       "    gdp_per_capita ($)       generation  \n",
       "72                 835     Generation X  \n",
       "73                 835           Silent  \n",
       "74                 835  G.I. Generation  \n",
       "75                 835     Generation X  \n",
       "76                 835     Generation X  "
      ]
     },
     "execution_count": 496,
     "metadata": {},
     "output_type": "execute_result"
    }
   ],
   "source": [
    "df = pd.read_csv(\"master.csv\").dropna()\n",
    "df.head()"
   ]
  },
  {
   "cell_type": "code",
   "execution_count": 498,
   "metadata": {},
   "outputs": [],
   "source": [
    "df_cat =df[[\"sex\",\"age\",\"population\",\"gdp_per_capita ($)\",\"HDI for year\",\"suicides/100k pop\"]]\n",
    "df_cat.loc[df['suicides/100k pop'] >=10 ,\"suicides/100k pop\"] = None\n",
    "df_cat=df_cat.dropna()"
   ]
  },
  {
   "cell_type": "code",
   "execution_count": 499,
   "metadata": {},
   "outputs": [
    {
     "data": {
      "text/html": [
       "<div>\n",
       "<style scoped>\n",
       "    .dataframe tbody tr th:only-of-type {\n",
       "        vertical-align: middle;\n",
       "    }\n",
       "\n",
       "    .dataframe tbody tr th {\n",
       "        vertical-align: top;\n",
       "    }\n",
       "\n",
       "    .dataframe thead th {\n",
       "        text-align: right;\n",
       "    }\n",
       "</style>\n",
       "<table border=\"1\" class=\"dataframe\">\n",
       "  <thead>\n",
       "    <tr style=\"text-align: right;\">\n",
       "      <th></th>\n",
       "      <th>sex</th>\n",
       "      <th>age</th>\n",
       "      <th>population</th>\n",
       "      <th>gdp_per_capita ($)</th>\n",
       "      <th>HDI for year</th>\n",
       "      <th>suicides/100k pop</th>\n",
       "    </tr>\n",
       "  </thead>\n",
       "  <tbody>\n",
       "    <tr>\n",
       "      <th>72</th>\n",
       "      <td>male</td>\n",
       "      <td>25-34 years</td>\n",
       "      <td>232900</td>\n",
       "      <td>835</td>\n",
       "      <td>0.619</td>\n",
       "      <td>5.58</td>\n",
       "    </tr>\n",
       "    <tr>\n",
       "      <th>73</th>\n",
       "      <td>male</td>\n",
       "      <td>55-74 years</td>\n",
       "      <td>178000</td>\n",
       "      <td>835</td>\n",
       "      <td>0.619</td>\n",
       "      <td>5.06</td>\n",
       "    </tr>\n",
       "    <tr>\n",
       "      <th>74</th>\n",
       "      <td>female</td>\n",
       "      <td>75+ years</td>\n",
       "      <td>40800</td>\n",
       "      <td>835</td>\n",
       "      <td>0.619</td>\n",
       "      <td>4.90</td>\n",
       "    </tr>\n",
       "    <tr>\n",
       "      <th>75</th>\n",
       "      <td>female</td>\n",
       "      <td>15-24 years</td>\n",
       "      <td>283500</td>\n",
       "      <td>835</td>\n",
       "      <td>0.619</td>\n",
       "      <td>4.59</td>\n",
       "    </tr>\n",
       "    <tr>\n",
       "      <th>76</th>\n",
       "      <td>male</td>\n",
       "      <td>15-24 years</td>\n",
       "      <td>241200</td>\n",
       "      <td>835</td>\n",
       "      <td>0.619</td>\n",
       "      <td>4.56</td>\n",
       "    </tr>\n",
       "  </tbody>\n",
       "</table>\n",
       "</div>"
      ],
      "text/plain": [
       "       sex          age  population  gdp_per_capita ($)  HDI for year  \\\n",
       "72    male  25-34 years      232900                 835         0.619   \n",
       "73    male  55-74 years      178000                 835         0.619   \n",
       "74  female    75+ years       40800                 835         0.619   \n",
       "75  female  15-24 years      283500                 835         0.619   \n",
       "76    male  15-24 years      241200                 835         0.619   \n",
       "\n",
       "    suicides/100k pop  \n",
       "72               5.58  \n",
       "73               5.06  \n",
       "74               4.90  \n",
       "75               4.59  \n",
       "76               4.56  "
      ]
     },
     "execution_count": 499,
     "metadata": {},
     "output_type": "execute_result"
    }
   ],
   "source": [
    "df_cat.head()\n"
   ]
  },
  {
   "cell_type": "code",
   "execution_count": 500,
   "metadata": {},
   "outputs": [
    {
     "data": {
      "text/plain": [
       "(array([2047.,  599.,  478.,  436.,  374.,  322.,  318.,  285.,  255.,\n",
       "         219.]),\n",
       " array([0.   , 0.997, 1.994, 2.991, 3.988, 4.985, 5.982, 6.979, 7.976,\n",
       "        8.973, 9.97 ]),\n",
       " <a list of 10 Patch objects>)"
      ]
     },
     "execution_count": 500,
     "metadata": {},
     "output_type": "execute_result"
    },
    {
     "data": {
      "image/png": "[encoded data removed]",
      "text/plain": [
       "<Figure size 432x288 with 1 Axes>"
      ]
     },
     "metadata": {
      "needs_background": "light"
     },
     "output_type": "display_data"
    }
   ],
   "source": [
    "plt.hist(df_cat[\"suicides/100k pop\"], bins=10)"
   ]
  },
  {
   "cell_type": "code",
   "execution_count": 501,
   "metadata": {},
   "outputs": [],
   "source": [
    "df_cat.loc[df['age'] == '5-14 years', 'age'] = 0\n",
    "df_cat.loc[df['age'] == '15-24 years', 'age'] = 1\n",
    "df_cat.loc[df['age'] == '25-34 years', 'age'] = 2\n",
    "df_cat.loc[df['age'] == '35-54 years', 'age'] = 3\n",
    "df_cat.loc[df['age'] == '55-74 years', 'age'] = 4\n",
    "df_cat.loc[df['age'] == '75+ years', 'age'] = 5\n",
    "\n",
    "df_cat.loc[df['sex'] == 'male', 'sex'] = 0   \n",
    "df_cat.loc[df['sex'] == 'female', 'sex'] = 1\n",
    "\n",
    "df_cat.loc[ df['suicides/100k pop'] <.01 , \"suicides/100k pop\"] = 0   \n",
    "df_cat.loc[(df['suicides/100k pop'] >= .01) & (df['suicides/100k pop'] <.1 ) , \"suicides/100k pop\"] = 1 \n",
    "df_cat.loc[(df['suicides/100k pop'] >= .1) & (df['suicides/100k pop'] <.5 ) , \"suicides/100k pop\"] = 2\n",
    "df_cat.loc[(df['suicides/100k pop'] >= .5) & (df['suicides/100k pop'] <1 ) , \"suicides/100k pop\"] = 3\n",
    "df_cat.loc[(df['suicides/100k pop'] >= 1) & (df['suicides/100k pop'] <4 ) , \"suicides/100k pop\"] = 4\n",
    "df_cat.loc[(df['suicides/100k pop'] >= 4) & (df['suicides/100k pop'] <6 ) , \"suicides/100k pop\"] = 5\n",
    "df_cat.loc[(df['suicides/100k pop'] >= 6) & (df['suicides/100k pop'] <7 ) , \"suicides/100k pop\"] = 6\n",
    "df_cat.loc[df['suicides/100k pop'] >7  , \"suicides/100k pop\"] = 7\n"
   ]
  },
  {
   "cell_type": "code",
   "execution_count": 502,
   "metadata": {},
   "outputs": [],
   "source": [
    "df_cat.loc[df['generation'] == 'Silent', 'generation'] =0\n",
    "df_cat.loc[df['generation'] == 'Millenials', 'generation'] =1\n",
    "df_cat.loc[df['generation'] == 'Generation Z', 'generation'] = 2\n",
    "df_cat.loc[df['generation'] == 'Generation X', 'generation'] = 3\n",
    "df_cat.loc[df['generation'] == 'G.I. Generation', 'generation'] = 4\n",
    "df_cat.loc[df['generation'] == 'Boomers', 'generation'] = 5\n"
   ]
  },
  {
   "cell_type": "code",
   "execution_count": 503,
   "metadata": {},
   "outputs": [
    {
     "data": {
      "text/plain": [
       "(array([1157.,   26.,  470.,    0.,  394., 1517.,    0.,  696.,  320.,\n",
       "         753.]),\n",
       " array([0. , 0.7, 1.4, 2.1, 2.8, 3.5, 4.2, 4.9, 5.6, 6.3, 7. ]),\n",
       " <a list of 10 Patch objects>)"
      ]
     },
     "execution_count": 503,
     "metadata": {},
     "output_type": "execute_result"
    },
    {
     "data": {
      "image/png": "[encoded data removed]",
      "text/plain": [
       "<Figure size 432x288 with 1 Axes>"
      ]
     },
     "metadata": {
      "needs_background": "light"
     },
     "output_type": "display_data"
    }
   ],
   "source": [
    "df_cat.count()\n",
    "\n",
    "plt.hist(df_cat[\"suicides/100k pop\"], bins=10)"
   ]
  },
  {
   "cell_type": "code",
   "execution_count": 504,
   "metadata": {},
   "outputs": [],
   "source": [
    "X = df_cat.iloc[:,:-1]\n",
    "y = df_cat.iloc[:, -1]\n",
    "\n",
    "X_train, X_test, y_train, y_test = train_test_split(X,y, test_size=0.2, random_state=12 )"
   ]
  },
  {
   "cell_type": "code",
   "execution_count": 505,
   "metadata": {},
   "outputs": [
    {
     "data": {
      "text/plain": [
       "20863    3.0\n",
       "16132    2.0\n",
       "26808    0.0\n",
       "12545    3.0\n",
       "25500    3.0\n",
       "Name: generation, dtype: float64"
      ]
     },
     "execution_count": 505,
     "metadata": {},
     "output_type": "execute_result"
    }
   ],
   "source": [
    "y_train.head()"
   ]
  },
  {
   "cell_type": "code",
   "execution_count": 506,
   "metadata": {},
   "outputs": [
    {
     "data": {
      "text/plain": [
       "array([5., 4., 3., 7., 2., 0., 6., 1.])"
      ]
     },
     "execution_count": 506,
     "metadata": {},
     "output_type": "execute_result"
    }
   ],
   "source": [
    "df_cat[\"suicides/100k pop\"].unique()"
   ]
  },
  {
   "cell_type": "code",
   "execution_count": 507,
   "metadata": {},
   "outputs": [],
   "source": [
    "logReg = LogisticRegression(solver = 'saga',multi_class='auto',max_iter=10000) # for logistic regression"
   ]
  },
  {
   "cell_type": "code",
   "execution_count": 508,
   "metadata": {},
   "outputs": [
    {
     "data": {
      "text/plain": [
       "LogisticRegression(C=1.0, class_weight=None, dual=False, fit_intercept=True,\n",
       "          intercept_scaling=1, max_iter=10000, multi_class='auto',\n",
       "          n_jobs=None, penalty='l2', random_state=None, solver='saga',\n",
       "          tol=0.0001, verbose=0, warm_start=False)"
      ]
     },
     "execution_count": 508,
     "metadata": {},
     "output_type": "execute_result"
    }
   ],
   "source": [
    "logReg.fit(X_train, y_train)"
   ]
  },
  {
   "cell_type": "code",
   "execution_count": 509,
   "metadata": {},
   "outputs": [
    {
     "name": "stdout",
     "output_type": "stream",
     "text": [
      "[1. 1. 1. ... 3. 1. 1.]\n"
     ]
    }
   ],
   "source": [
    "y_pred = logReg.predict(X_test)\n",
    "print(y_pred)"
   ]
  },
  {
   "cell_type": "code",
   "execution_count": 510,
   "metadata": {},
   "outputs": [
    {
     "data": {
      "text/plain": [
       "array([1., 1., 1., ..., 3., 1., 1.])"
      ]
     },
     "execution_count": 510,
     "metadata": {},
     "output_type": "execute_result"
    },
    {
     "data": {
      "image/png": "[encoded data removed]",
      "text/plain": [
       "<Figure size 432x288 with 1 Axes>"
      ]
     },
     "metadata": {
      "needs_background": "light"
     },
     "output_type": "display_data"
    }
   ],
   "source": [
    "plt.hist(df_cat[\"suicides/100k pop\"], bins=7)\n",
    "\n",
    "y_pred"
   ]
  },
  {
   "cell_type": "code",
   "execution_count": 511,
   "metadata": {},
   "outputs": [
    {
     "data": {
      "text/plain": [
       "0.2755388940955951"
      ]
     },
     "execution_count": 511,
     "metadata": {},
     "output_type": "execute_result"
    }
   ],
   "source": [
    "accuracy_score(y_test, y_pred) "
   ]
  },
  {
   "cell_type": "code",
   "execution_count": 523,
   "metadata": {},
   "outputs": [],
   "source": [
    "# accuracy_score(y_test,np.zeros(len(y_test)))"
   ]
  },
  {
   "cell_type": "code",
   "execution_count": 513,
   "metadata": {},
   "outputs": [
    {
     "data": {
      "text/plain": [
       "array([0., 3., 1., 5., 2., 4.])"
      ]
     },
     "execution_count": 513,
     "metadata": {},
     "output_type": "execute_result"
    }
   ],
   "source": [
    "y_test.unique()"
   ]
  },
  {
   "cell_type": "code",
   "execution_count": 514,
   "metadata": {},
   "outputs": [
    {
     "data": {
      "text/plain": [
       "array([[  0, 147,   0,  18,   0,   0],\n",
       "       [  0, 235,   0,  64,   0,   0],\n",
       "       [  0, 137,   0,  24,   0,   0],\n",
       "       [  0, 196,   0,  59,   0,   0],\n",
       "       [  0,  47,   0,   7,   0,   0],\n",
       "       [  0,  94,   0,  39,   0,   0]], dtype=int64)"
      ]
     },
     "execution_count": 514,
     "metadata": {},
     "output_type": "execute_result"
    }
   ],
   "source": [
    "confusion_matrix(y_test, y_pred)"
   ]
  },
  {
   "cell_type": "code",
   "execution_count": 524,
   "metadata": {},
   "outputs": [],
   "source": [
    "m_dict = {\n",
    "    \"lr\" : LogisticRegression(solver =\"saga\",multi_class=\"auto\",max_iter=10000),\n",
    "     \"svm\": SVC(gamma=\"scale\"),\n",
    "      \"dt\": DecisionTreeClassifier() ,\n",
    "      \"rf\":RandomForestClassifier(n_estimators=7) ,\n",
    "     \"knn\": KNeighborsClassifier(n_neighbors=7)\n",
    "}"
   ]
  },
  {
   "cell_type": "code",
   "execution_count": 525,
   "metadata": {},
   "outputs": [],
   "source": [
    "# for i in range(1,11):\n",
    "#     knn=KNeighborsClassifier(n_neighbors=i)\n",
    "#     model.fit(X_train, y_train)\n",
    "#     print(accuracy_score(y_test, y_pred)) \n",
    "    "
   ]
  },
  {
   "cell_type": "code",
   "execution_count": null,
   "metadata": {},
   "outputs": [],
   "source": []
  },
  {
   "cell_type": "code",
   "execution_count": 526,
   "metadata": {},
   "outputs": [],
   "source": [
    "y_pred_dct = {}\n",
    "\n",
    "for key, model in m_dict.items():\n",
    "  \n",
    "  model.fit(X_train, y_train)\n",
    "  \n",
    "  y_pred_dct[key] = model.predict(X_test)"
   ]
  },
  {
   "cell_type": "code",
   "execution_count": 527,
   "metadata": {},
   "outputs": [
    {
     "name": "stdout",
     "output_type": "stream",
     "text": [
      "lr 0.2755388940955951\n",
      "svm 0.2858481724461106\n",
      "dt 0.7788191190253045\n",
      "rf 0.7141518275538894\n",
      "knn 0.4076850984067479\n"
     ]
    }
   ],
   "source": [
    "for key, y_pred in y_pred_dct.items():\n",
    "    print ( key,  accuracy_score(y_test, y_pred) )"
   ]
  },
  {
   "cell_type": "code",
   "execution_count": 193,
   "metadata": {},
   "outputs": [
    {
     "name": "stdout",
     "output_type": "stream",
     "text": [
      "lr\n",
      "[[805   0   0   0   0   0]\n",
      " [280   0   0   0   0   0]\n",
      " [168   0   0   0   0   0]\n",
      " [108   0   0   0   0   0]\n",
      " [ 81   0   0   0   0   0]\n",
      " [ 52   0   0   0   0   0]]\n",
      "svm\n",
      "[[804   0   1   0   0   0]\n",
      " [279   1   0   0   0   0]\n",
      " [168   0   0   0   0   0]\n",
      " [108   0   0   0   0   0]\n",
      " [ 81   0   0   0   0   0]\n",
      " [ 50   2   0   0   0   0]]\n",
      "dt\n",
      "[[667  85  21  19   6   7]\n",
      " [ 75 127  48  19   6   5]\n",
      " [ 40  34  60  23   6   5]\n",
      " [ 14  12  37  26  13   6]\n",
      " [  7  17   4  17  25  11]\n",
      " [  7   9   7   7  11  11]]\n",
      "rf\n",
      "[[709  60  19   9   3   5]\n",
      " [ 95 127  40  10   7   1]\n",
      " [ 44  38  60  23   1   2]\n",
      " [ 17  17  31  23  15   5]\n",
      " [ 11  13   5  16  26  10]\n",
      " [  8   5   7   7  10  15]]\n",
      "knn\n",
      "[[687  74  28   7   7   2]\n",
      " [191  51  20   4   7   7]\n",
      " [129  17  14   5   2   1]\n",
      " [ 65  19   8  11   4   1]\n",
      " [ 60  14   3   1   3   0]\n",
      " [ 35  12   2   2   0   1]]\n"
     ]
    }
   ],
   "source": [
    "for key, y_pred in y_pred_dct.items():\n",
    "    print ( key )\n",
    "    cm = confusion_matrix(y_test, y_pred)\n",
    "    print(cm)"
   ]
  },
  {
   "cell_type": "code",
   "execution_count": null,
   "metadata": {},
   "outputs": [],
   "source": []
  }
 ],
 "metadata": {
  "kernelspec": {
   "display_name": "Python 3",
   "language": "python",
   "name": "python3"
  },
  "language_info": {
   "codemirror_mode": {
    "name": "ipython",
    "version": 3
   },
   "file_extension": ".py",
   "mimetype": "text/x-python",
   "name": "python",
   "nbconvert_exporter": "python",
   "pygments_lexer": "ipython3",
   "version": "3.7.3"
  }
 },
 "nbformat": 4,
 "nbformat_minor": 2
}
